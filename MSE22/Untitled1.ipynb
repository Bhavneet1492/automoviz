{
 "cells": [
  {
   "cell_type": "code",
   "execution_count": 16,
   "metadata": {},
   "outputs": [],
   "source": [
    "import streamlit as st"
   ]
  },
  {
   "cell_type": "code",
   "execution_count": 17,
   "metadata": {},
   "outputs": [
    {
     "data": {
      "text/plain": [
       "DeltaGenerator(_root_container=0, _provided_cursor=None, _parent=None, _block_type=None, _form_data=None)"
      ]
     },
     "execution_count": 17,
     "metadata": {},
     "output_type": "execute_result"
    }
   ],
   "source": [
    "st.title(\"hello world\")"
   ]
  },
  {
   "cell_type": "code",
   "execution_count": 18,
   "metadata": {},
   "outputs": [
    {
     "name": "stderr",
     "output_type": "stream",
     "text": [
      "Traceback (most recent call last):\n",
      "  File \"c:\\users\\hardeep singh khalsa\\new folder (2)\\lib\\runpy.py\", line 194, in _run_module_as_main\n",
      "    return _run_code(code, main_globals, None,\n",
      "  File \"c:\\users\\hardeep singh khalsa\\new folder (2)\\lib\\runpy.py\", line 87, in _run_code\n",
      "    exec(code, run_globals)\n",
      "  File \"C:\\Users\\hardeep singh khalsa\\New folder (2)\\Scripts\\streamlit.exe\\__main__.py\", line 4, in <module>\n",
      "  File \"c:\\users\\hardeep singh khalsa\\new folder (2)\\lib\\site-packages\\streamlit\\__init__.py\", line 70, in <module>\n",
      "    from streamlit.delta_generator import DeltaGenerator as _DeltaGenerator\n",
      "  File \"c:\\users\\hardeep singh khalsa\\new folder (2)\\lib\\site-packages\\streamlit\\delta_generator.py\", line 72, in <module>\n",
      "    from streamlit.elements.arrow import ArrowMixin\n",
      "  File \"c:\\users\\hardeep singh khalsa\\new folder (2)\\lib\\site-packages\\streamlit\\elements\\arrow.py\", line 20, in <module>\n",
      "    from pandas.io.formats.style import Styler\n",
      "  File \"c:\\users\\hardeep singh khalsa\\new folder (2)\\lib\\site-packages\\pandas\\io\\formats\\style.py\", line 30, in <module>\n",
      "    jinja2 = import_optional_dependency(\"jinja2\", extra=\"DataFrame.style requires jinja2.\")\n",
      "  File \"c:\\users\\hardeep singh khalsa\\new folder (2)\\lib\\site-packages\\pandas\\compat\\_optional.py\", line 92, in import_optional_dependency\n",
      "    raise ImportError(msg) from None\n",
      "ImportError: Missing optional dependency 'jinja2'. DataFrame.style requires jinja2. Use pip or conda to install jinja2.\n"
     ]
    }
   ],
   "source": [
    "!streamlit run Untitled.py"
   ]
  },
  {
   "cell_type": "code",
   "execution_count": 7,
   "metadata": {},
   "outputs": [
    {
     "ename": "NameError",
     "evalue": "name 'np' is not defined",
     "output_type": "error",
     "traceback": [
      "\u001b[1;31m---------------------------------------------------------------------------\u001b[0m",
      "\u001b[1;31mNameError\u001b[0m                                 Traceback (most recent call last)",
      "\u001b[1;32m<ipython-input-7-5b07de2ae533>\u001b[0m in \u001b[0;36m<module>\u001b[1;34m\u001b[0m\n\u001b[0;32m      1\u001b[0m \u001b[0ma\u001b[0m\u001b[1;33m=\u001b[0m\u001b[1;33m[\u001b[0m\u001b[1;36m1\u001b[0m\u001b[1;33m,\u001b[0m\u001b[1;36m2\u001b[0m\u001b[1;33m,\u001b[0m\u001b[1;36m3\u001b[0m\u001b[1;33m,\u001b[0m\u001b[1;36m4\u001b[0m\u001b[1;33m,\u001b[0m\u001b[1;36m5\u001b[0m\u001b[1;33m,\u001b[0m\u001b[1;36m6\u001b[0m\u001b[1;33m,\u001b[0m\u001b[1;36m7\u001b[0m\u001b[1;33m,\u001b[0m\u001b[1;36m8\u001b[0m\u001b[1;33m]\u001b[0m\u001b[1;33m\u001b[0m\u001b[1;33m\u001b[0m\u001b[0m\n\u001b[1;32m----> 2\u001b[1;33m \u001b[0mn\u001b[0m\u001b[1;33m=\u001b[0m\u001b[0mnp\u001b[0m\u001b[1;33m.\u001b[0m\u001b[0marray\u001b[0m\u001b[1;33m(\u001b[0m\u001b[0ma\u001b[0m\u001b[1;33m)\u001b[0m\u001b[1;33m\u001b[0m\u001b[1;33m\u001b[0m\u001b[0m\n\u001b[0m\u001b[0;32m      3\u001b[0m \u001b[0mnd\u001b[0m\u001b[1;33m=\u001b[0m\u001b[0mn\u001b[0m\u001b[1;33m.\u001b[0m\u001b[0mreshape\u001b[0m\u001b[1;33m(\u001b[0m\u001b[1;33m(\u001b[0m\u001b[1;36m2\u001b[0m\u001b[1;33m,\u001b[0m\u001b[1;36m4\u001b[0m\u001b[1;33m)\u001b[0m\u001b[1;33m)\u001b[0m\u001b[1;33m\u001b[0m\u001b[1;33m\u001b[0m\u001b[0m\n\u001b[0;32m      4\u001b[0m dic={\n\u001b[0;32m      5\u001b[0m     \u001b[1;34m\"name\"\u001b[0m\u001b[1;33m:\u001b[0m\u001b[1;34m\"sapphire\"\u001b[0m\u001b[1;33m,\u001b[0m\u001b[1;33m\u001b[0m\u001b[1;33m\u001b[0m\u001b[0m\n",
      "\u001b[1;31mNameError\u001b[0m: name 'np' is not defined"
     ]
    }
   ],
   "source": [
    "a=[1,2,3,4,5,6,7,8]\n",
    "n=np.array(a)\n",
    "nd=n.reshape((2,4))\n",
    "dic={\n",
    "    \"name\":\"sapphire\",\n",
    "    \"age\":19,\n",
    "    \"city\":mumbai\n",
    "}\n",
    "data=pd.read_csv(\"sales.csv\")"
   ]
  },
  {
   "cell_type": "code",
   "execution_count": 19,
   "metadata": {},
   "outputs": [
    {
     "name": "stderr",
     "output_type": "stream",
     "text": [
      "Traceback (most recent call last):\n",
      "  File \"c:\\users\\hardeep singh khalsa\\new folder (2)\\lib\\runpy.py\", line 194, in _run_module_as_main\n",
      "    return _run_code(code, main_globals, None,\n",
      "  File \"c:\\users\\hardeep singh khalsa\\new folder (2)\\lib\\runpy.py\", line 87, in _run_code\n",
      "    exec(code, run_globals)\n",
      "  File \"C:\\Users\\hardeep singh khalsa\\New folder (2)\\Scripts\\streamlit.exe\\__main__.py\", line 4, in <module>\n",
      "  File \"c:\\users\\hardeep singh khalsa\\new folder (2)\\lib\\site-packages\\streamlit\\__init__.py\", line 70, in <module>\n",
      "    from streamlit.delta_generator import DeltaGenerator as _DeltaGenerator\n",
      "  File \"c:\\users\\hardeep singh khalsa\\new folder (2)\\lib\\site-packages\\streamlit\\delta_generator.py\", line 72, in <module>\n",
      "    from streamlit.elements.arrow import ArrowMixin\n",
      "  File \"c:\\users\\hardeep singh khalsa\\new folder (2)\\lib\\site-packages\\streamlit\\elements\\arrow.py\", line 20, in <module>\n",
      "    from pandas.io.formats.style import Styler\n",
      "  File \"c:\\users\\hardeep singh khalsa\\new folder (2)\\lib\\site-packages\\pandas\\io\\formats\\style.py\", line 30, in <module>\n",
      "    jinja2 = import_optional_dependency(\"jinja2\", extra=\"DataFrame.style requires jinja2.\")\n",
      "  File \"c:\\users\\hardeep singh khalsa\\new folder (2)\\lib\\site-packages\\pandas\\compat\\_optional.py\", line 92, in import_optional_dependency\n",
      "    raise ImportError(msg) from None\n",
      "ImportError: Missing optional dependency 'jinja2'. DataFrame.style requires jinja2. Use pip or conda to install jinja2.\n"
     ]
    }
   ],
   "source": [
    "!streamlit run Untitled.py"
   ]
  }
 ],
 "metadata": {
  "kernelspec": {
   "display_name": "Python 3",
   "language": "python",
   "name": "python3"
  },
  "language_info": {
   "codemirror_mode": {
    "name": "ipython",
    "version": 3
   },
   "file_extension": ".py",
   "mimetype": "text/x-python",
   "name": "python",
   "nbconvert_exporter": "python",
   "pygments_lexer": "ipython3",
   "version": "3.8.3"
  }
 },
 "nbformat": 4,
 "nbformat_minor": 4
}
